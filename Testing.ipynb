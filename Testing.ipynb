{
 "cells": [
  {
   "cell_type": "code",
   "execution_count": 95,
   "id": "romantic-necklace",
   "metadata": {},
   "outputs": [],
   "source": [
    "from datetime import datetime,timedelta, timezone, date\n",
    "import pytz"
   ]
  },
  {
   "cell_type": "code",
   "execution_count": 11,
   "id": "theoretical-passion",
   "metadata": {},
   "outputs": [
    {
     "name": "stdout",
     "output_type": "stream",
     "text": [
      "2021-03-17\n",
      "2021-03-17 19:51:48.058036 UTC\n"
     ]
    }
   ],
   "source": [
    "#first avail DATETIME '2019-02-22T00:00:00'\n",
    "# retrieved timestamp'2020-12-08 18:27:52 UTC'\n",
    "\n",
    "\n",
    "events= ['Wed Mar 17', 'Thu Mar 18', 'Fri Mar 19']\n",
    "\n",
    "\n",
    "\n",
    "\n",
    "first_event_date = datetime.strptime(events[0], '%a %b %d').replace(year=now.year)\n",
    "print(first_event_date.strftime('%Y-%m-%d'))\n",
    "print(datetime.now(timezone.utc).strftime('%Y-%m-%d %H:%M:%S.%f %Z'))\n",
    "\n",
    "date = first_event_date.replace(tzinfo=offset)"
   ]
  },
  {
   "cell_type": "code",
   "execution_count": 12,
   "id": "monetary-proposal",
   "metadata": {},
   "outputs": [
    {
     "data": {
      "text/plain": [
       "datetime.datetime(2021, 3, 17, 0, 0, tzinfo=datetime.timezone(datetime.timedelta(days=-1, seconds=57600)))"
      ]
     },
     "execution_count": 12,
     "metadata": {},
     "output_type": "execute_result"
    }
   ],
   "source": [
    "date"
   ]
  },
  {
   "cell_type": "code",
   "execution_count": 13,
   "id": "smart-kernel",
   "metadata": {},
   "outputs": [
    {
     "data": {
      "text/plain": [
       "datetime.datetime(2021, 3, 17, 0, 0)"
      ]
     },
     "execution_count": 13,
     "metadata": {},
     "output_type": "execute_result"
    }
   ],
   "source": [
    "first_event_date"
   ]
  },
  {
   "cell_type": "code",
   "execution_count": 14,
   "id": "opened-update",
   "metadata": {},
   "outputs": [
    {
     "data": {
      "text/plain": [
       "False"
      ]
     },
     "execution_count": 14,
     "metadata": {},
     "output_type": "execute_result"
    }
   ],
   "source": [
    "timedelta(hours=3).total_seconds() > abs((now-date).total_seconds())"
   ]
  },
  {
   "cell_type": "code",
   "execution_count": 15,
   "id": "respective-forth",
   "metadata": {},
   "outputs": [
    {
     "data": {
      "text/plain": [
       "False"
      ]
     },
     "execution_count": 15,
     "metadata": {},
     "output_type": "execute_result"
    }
   ],
   "source": [
    "timedelta(days=.5) < date-now"
   ]
  },
  {
   "cell_type": "code",
   "execution_count": 16,
   "id": "corporate-compiler",
   "metadata": {},
   "outputs": [
    {
     "data": {
      "text/plain": [
       "10800.0"
      ]
     },
     "execution_count": 16,
     "metadata": {},
     "output_type": "execute_result"
    }
   ],
   "source": [
    "timedelta(hours=3).total_seconds()"
   ]
  },
  {
   "cell_type": "code",
   "execution_count": 17,
   "id": "composed-complement",
   "metadata": {},
   "outputs": [],
   "source": [
    "from google.cloud import bigquery\n",
    "from google.cloud import bigquery_storage\n",
    "\n",
    "import google.auth"
   ]
  },
  {
   "cell_type": "code",
   "execution_count": 38,
   "id": "higher-witness",
   "metadata": {},
   "outputs": [],
   "source": [
    "def retreive_past_dates():\n",
    "    credentials, your_project_id = google.auth.default(\n",
    "        scopes=[\"https://www.googleapis.com/auth/cloud-platform\"]\n",
    "    )\n",
    "    print(your_project_id, credentials)\n",
    "    # Make clients.\n",
    "    bqclient = bigquery.Client(credentials=credentials, project=your_project_id,)\n",
    "    bqstorageclient = bigquery_storage.BigQueryReadClient(credentials=credentials)\n",
    "\n",
    "    query_string = \"\"\"\n",
    "    SELECT * \n",
    "    FROM `vaccine-volunteering.dates_accessed.dates`\n",
    "    \"\"\"\n",
    "\n",
    "    dataframe = (\n",
    "        bqclient.query(query_string)\n",
    "        .result()\n",
    "        .to_dataframe(bqstorage_client=bqstorageclient)\n",
    "    )\n",
    "    return dataframe"
   ]
  },
  {
   "cell_type": "code",
   "execution_count": 50,
   "id": "frequent-genius",
   "metadata": {},
   "outputs": [],
   "source": [
    "import pandas as pd"
   ]
  },
  {
   "cell_type": "code",
   "execution_count": 88,
   "id": "lyric-exemption",
   "metadata": {},
   "outputs": [
    {
     "name": "stdout",
     "output_type": "stream",
     "text": [
      "vaccine-volunteering <google.oauth2.credentials.Credentials object at 0x7fac4b3490a0>\n"
     ]
    }
   ],
   "source": [
    "old_events = retreive_past_dates()"
   ]
  },
  {
   "cell_type": "code",
   "execution_count": 91,
   "id": "ecological-track",
   "metadata": {},
   "outputs": [],
   "source": [
    "old_events = old_events.groupby('date').max()"
   ]
  },
  {
   "cell_type": "code",
   "execution_count": 92,
   "id": "solar-cancellation",
   "metadata": {},
   "outputs": [
    {
     "data": {
      "text/plain": [
       "array([datetime.date(2021, 3, 17), datetime.date(2021, 3, 18),\n",
       "       datetime.date(2021, 3, 19)], dtype=object)"
      ]
     },
     "execution_count": 92,
     "metadata": {},
     "output_type": "execute_result"
    }
   ],
   "source": [
    "old_events.index.values"
   ]
  },
  {
   "cell_type": "code",
   "execution_count": 93,
   "id": "specified-horizon",
   "metadata": {},
   "outputs": [],
   "source": [
    "def str_to_datetime(date_str):\n",
    "    return datetime.strptime(date_str, '%a %b %d').date()\n",
    "\n",
    "def date_to_bigquery(date):\n",
    "    return date.strftime('%Y-%m-%d')\n",
    "\n",
    "def timestamp_to_bigquery(date):\n",
    "    return date.now(timezone.utc).strftime('%Y-%m-%d %H:%M:%S.%f %Z')"
   ]
  },
  {
   "cell_type": "code",
   "execution_count": 94,
   "id": "double-circumstances",
   "metadata": {},
   "outputs": [],
   "source": [
    "offset = timezone(timedelta(hours=-8))\n",
    "now = datetime.now(offset)\n",
    "\n",
    "events_dt = [str_to_datetime(date).replace(year=now.year) for date in events]"
   ]
  },
  {
   "cell_type": "code",
   "execution_count": 68,
   "id": "pretty-hawaii",
   "metadata": {},
   "outputs": [
    {
     "data": {
      "text/plain": [
       "[datetime.date(2021, 3, 17),\n",
       " datetime.date(2021, 3, 18),\n",
       " datetime.date(2021, 3, 19)]"
      ]
     },
     "execution_count": 68,
     "metadata": {},
     "output_type": "execute_result"
    }
   ],
   "source": [
    "events_dt"
   ]
  },
  {
   "cell_type": "code",
   "execution_count": 76,
   "id": "abandoned-length",
   "metadata": {},
   "outputs": [
    {
     "data": {
      "text/plain": [
       "Timestamp('2021-03-17 20:02:21.002978+0000', tz='UTC')"
      ]
     },
     "execution_count": 76,
     "metadata": {},
     "output_type": "execute_result"
    }
   ],
   "source": [
    "old_events.loc[events_dt[0]].last_accessed"
   ]
  },
  {
   "cell_type": "code",
   "execution_count": 83,
   "id": "stuffed-taylor",
   "metadata": {},
   "outputs": [],
   "source": []
  },
  {
   "cell_type": "code",
   "execution_count": 84,
   "id": "eastern-motel",
   "metadata": {},
   "outputs": [
    {
     "data": {
      "text/plain": [
       "datetime.datetime(2021, 3, 17, 20, 16, 56, 266922, tzinfo=<UTC>)"
      ]
     },
     "execution_count": 84,
     "metadata": {},
     "output_type": "execute_result"
    }
   ],
   "source": [
    "datetime.now(pytz.UTC)"
   ]
  },
  {
   "cell_type": "code",
   "execution_count": 87,
   "id": "noble-rally",
   "metadata": {},
   "outputs": [],
   "source": [
    "new_events = []\n",
    "for event in events_dt:\n",
    "    if (event not in old_events.index.values) or \\\n",
    "    timedelta(hours=3).total_seconds() < abs((datetime.now(pytz.UTC)-old_events.loc[event].last_accessed).total_seconds()):\n",
    "        print('time check')\n",
    "        new_events.append({u\"date\":event, u\"last_accessed\":timestamp_to_bigquery(datetime.now())})\n",
    "        "
   ]
  },
  {
   "cell_type": "code",
   "execution_count": null,
   "id": "promising-ability",
   "metadata": {},
   "outputs": [],
   "source": [
    "def upload_results()"
   ]
  },
  {
   "cell_type": "code",
   "execution_count": 36,
   "id": "unlimited-mediterranean",
   "metadata": {},
   "outputs": [],
   "source": [
    "client = bigquery.Client()\n"
   ]
  },
  {
   "cell_type": "code",
   "execution_count": 37,
   "id": "nominated-confusion",
   "metadata": {},
   "outputs": [
    {
     "name": "stdout",
     "output_type": "stream",
     "text": [
      "New rows have been added.\n"
     ]
    }
   ],
   "source": [
    "errors = client.insert_rows_json('vaccine-volunteering.dates_accessed.dates', new_events)  # Make an API request.\n",
    "if errors == []:\n",
    "    print(\"New rows have been added.\")\n",
    "else:\n",
    "    print(\"Encountered errors while inserting rows: {}\".format(errors))"
   ]
  },
  {
   "cell_type": "code",
   "execution_count": null,
   "id": "grave-eagle",
   "metadata": {},
   "outputs": [],
   "source": []
  }
 ],
 "metadata": {
  "kernelspec": {
   "display_name": "Python 3",
   "language": "python",
   "name": "python3"
  },
  "language_info": {
   "codemirror_mode": {
    "name": "ipython",
    "version": 3
   },
   "file_extension": ".py",
   "mimetype": "text/x-python",
   "name": "python",
   "nbconvert_exporter": "python",
   "pygments_lexer": "ipython3",
   "version": "3.8.8"
  }
 },
 "nbformat": 4,
 "nbformat_minor": 5
}
