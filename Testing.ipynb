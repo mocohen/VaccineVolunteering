{
 "cells": [
  {
   "cell_type": "code",
   "execution_count": 95,
   "id": "romantic-necklace",
   "metadata": {},
   "outputs": [],
   "source": [
    "from datetime import datetime,timedelta, timezone, date\n",
    "import pytz"
   ]
  },
  {
   "cell_type": "code",
   "execution_count": 3,
   "id": "maritime-jacksonville",
   "metadata": {},
   "outputs": [],
   "source": [
    "import html_utils\n",
    "import gc_storage_utils"
   ]
  },
  {
   "cell_type": "code",
   "execution_count": 24,
   "id": "greater-carol",
   "metadata": {},
   "outputs": [],
   "source": [
    "from scraper_api import ScraperAPIClient\n",
    "from scrapy.http import TextResponse, HtmlResponse\n"
   ]
  },
  {
   "cell_type": "code",
   "execution_count": 9,
   "id": "loved-reading",
   "metadata": {},
   "outputs": [],
   "source": [
    "mailjet_key = gc_storage_utils.access_secret_version(230736833082, 'mailjetKey', 1)\n",
    "mailjet_secret = gc_storage_utils.access_secret_version(230736833082, 'mailjetSecret', 1)\n",
    "scrapy_api_key = gc_storage_utils.access_secret_version(230736833082, 'scraper_api_key', 1)\n",
    "\n",
    "# start scraper api client\n",
    "client = ScraperAPIClient(scrapy_api_key)\n",
    "\n",
    "\n",
    "# url = 'https://volunteer.covidvaccineseattle.org/'\n",
    "url = 'https://communityvaccination.org'\n",
    "\n",
    "# get html response\n",
    "top_response = html_utils.request_page(url, client)"
   ]
  },
  {
   "cell_type": "code",
   "execution_count": 11,
   "id": "standard-differential",
   "metadata": {},
   "outputs": [
    {
     "data": {
      "text/plain": [
       "[<Selector xpath='.//option' data='<option value=\"76\">Lumen Field Site -...'>,\n",
       " <Selector xpath='.//option' data='<option value=\"77\">Lumen Field Site -...'>,\n",
       " <Selector xpath='.//option' data='<option value=\"78\">Lumen Field Site -...'>,\n",
       " <Selector xpath='.//option' data='<option value=\"82\">Lumen Field Site -...'>,\n",
       " <Selector xpath='.//option' data='<option value=\"83\">Lumen Field Site -...'>,\n",
       " <Selector xpath='.//option' data='<option value=\"84\">Lumen Field Site -...'>]"
      ]
     },
     "execution_count": 11,
     "metadata": {},
     "output_type": "execute_result"
    }
   ],
   "source": [
    "top_response.xpath('//div[@id=\"ContentPlaceHolder1_UpdatePanelOpKey\"]').xpath('.//option')[1:]"
   ]
  },
  {
   "cell_type": "code",
   "execution_count": 12,
   "id": "occasional-spain",
   "metadata": {},
   "outputs": [],
   "source": [
    "view_state = top_response.xpath('//div[@class=\"aspNetHidden\"]/input[@name=\"__VIEWSTATE\"]/@value').get()\n",
    "event_validation = top_response.xpath('//div[@class=\"aspNetHidden\"]/input[@name=\"__EVENTVALIDATION\"]/@value').get()"
   ]
  },
  {
   "cell_type": "code",
   "execution_count": 38,
   "id": "lovely-roman",
   "metadata": {},
   "outputs": [
    {
     "name": "stdout",
     "output_type": "stream",
     "text": [
      "yes\n"
     ]
    }
   ],
   "source": [
    "profession = 'G-CP2-DE'\n",
    "if 'G-CP2' in profession:\n",
    "    print('yes')"
   ]
  },
  {
   "cell_type": "code",
   "execution_count": 14,
   "id": "wanted-neutral",
   "metadata": {},
   "outputs": [],
   "source": [
    "profession = 'G-CP2'\n",
    "prof='G'\n",
    "prof_id = '175'\n",
    "license_req = '0'"
   ]
  },
  {
   "cell_type": "code",
   "execution_count": 16,
   "id": "comprehensive-trainer",
   "metadata": {},
   "outputs": [],
   "source": [
    "data1 = {\n",
    "            'view_state':view_state, \n",
    "            'event_validation':event_validation,\n",
    "            'generator':'CA0B0334',\n",
    "            'profession':prof,\n",
    "            'profession_ID': prof_id,\n",
    "            'license_req':license_req\n",
    "}"
   ]
  },
  {
   "cell_type": "code",
   "execution_count": 17,
   "id": "unsigned-lesbian",
   "metadata": {},
   "outputs": [],
   "source": [
    "first_response = html_utils.make_request(data1)\n",
    "# print( first_response.text)\n",
    "ev1 = html_utils.get_event_viewstate(first_response)"
   ]
  },
  {
   "cell_type": "code",
   "execution_count": 18,
   "id": "protected-machinery",
   "metadata": {},
   "outputs": [],
   "source": [
    "data2 = {\n",
    "        'view_state':ev1['view_state'], \n",
    "        'event_validation':ev1['event_validation'],\n",
    "        'generator': ev1['generator'],\n",
    "        'profession':prof,\n",
    "        'profession_ID': prof_id,\n",
    "        'license_req':license_req,\n",
    "        'state_id':'47'\n",
    "}\n",
    "second_response = html_utils.make_request(data2)"
   ]
  },
  {
   "cell_type": "code",
   "execution_count": 19,
   "id": "hydraulic-whale",
   "metadata": {},
   "outputs": [],
   "source": [
    "ev2 = html_utils.get_event_viewstate(second_response)\n"
   ]
  },
  {
   "cell_type": "code",
   "execution_count": 21,
   "id": "scientific-schedule",
   "metadata": {},
   "outputs": [],
   "source": [
    "row_id=84"
   ]
  },
  {
   "cell_type": "code",
   "execution_count": 22,
   "id": "international-accent",
   "metadata": {},
   "outputs": [],
   "source": [
    "data3 = {\n",
    "        'view_state':ev2['view_state'], \n",
    "        'event_validation':ev2['event_validation'],\n",
    "        'generator': ev2['generator'],\n",
    "        'profession':prof,\n",
    "        'profession_ID': prof_id,\n",
    "        'license_req':license_req,\n",
    "        'state_id':'47',\n",
    "        'row_id': row_id,\n",
    "}\n",
    "third_response = html_utils.make_request(data3)\n",
    "# print('\\n\\n\\nthird',third_response.text)\n",
    "\n",
    "html_text_string = html_utils.get_new_rows(third_response)"
   ]
  },
  {
   "cell_type": "code",
   "execution_count": 25,
   "id": "little-clear",
   "metadata": {},
   "outputs": [],
   "source": [
    "new_text_response = HtmlResponse(url=\"my HTML string\", body=html_text_string, encoding='utf-8')\n"
   ]
  },
  {
   "cell_type": "code",
   "execution_count": 37,
   "id": "loving-commercial",
   "metadata": {},
   "outputs": [
    {
     "name": "stdout",
     "output_type": "stream",
     "text": [
      "data\n",
      "data\n",
      "data\n",
      "data\n"
     ]
    }
   ],
   "source": [
    "add_date = False\n",
    "for tr in new_text_response.xpath('//tr'):\n",
    "    for job in tr.xpath('td/div/select/option/text()').getall():\n",
    "        if 'data' in job.lower():\n",
    "            add_date = True\n"
   ]
  },
  {
   "cell_type": "code",
   "execution_count": null,
   "id": "proper-financing",
   "metadata": {},
   "outputs": [],
   "source": []
  },
  {
   "cell_type": "code",
   "execution_count": 11,
   "id": "theoretical-passion",
   "metadata": {},
   "outputs": [
    {
     "name": "stdout",
     "output_type": "stream",
     "text": [
      "2021-03-17\n",
      "2021-03-17 19:51:48.058036 UTC\n"
     ]
    }
   ],
   "source": [
    "#first avail DATETIME '2019-02-22T00:00:00'\n",
    "# retrieved timestamp'2020-12-08 18:27:52 UTC'\n",
    "\n",
    "\n",
    "events= ['Wed Mar 17', 'Thu Mar 18', 'Fri Mar 19']\n",
    "\n",
    "\n",
    "\n",
    "\n",
    "first_event_date = datetime.strptime(events[0], '%a %b %d').replace(year=now.year)\n",
    "print(first_event_date.strftime('%Y-%m-%d'))\n",
    "print(datetime.now(timezone.utc).strftime('%Y-%m-%d %H:%M:%S.%f %Z'))\n",
    "\n",
    "date = first_event_date.replace(tzinfo=offset)"
   ]
  },
  {
   "cell_type": "code",
   "execution_count": 12,
   "id": "monetary-proposal",
   "metadata": {},
   "outputs": [
    {
     "data": {
      "text/plain": [
       "datetime.datetime(2021, 3, 17, 0, 0, tzinfo=datetime.timezone(datetime.timedelta(days=-1, seconds=57600)))"
      ]
     },
     "execution_count": 12,
     "metadata": {},
     "output_type": "execute_result"
    }
   ],
   "source": [
    "date"
   ]
  },
  {
   "cell_type": "code",
   "execution_count": 13,
   "id": "smart-kernel",
   "metadata": {},
   "outputs": [
    {
     "data": {
      "text/plain": [
       "datetime.datetime(2021, 3, 17, 0, 0)"
      ]
     },
     "execution_count": 13,
     "metadata": {},
     "output_type": "execute_result"
    }
   ],
   "source": [
    "first_event_date"
   ]
  },
  {
   "cell_type": "code",
   "execution_count": 14,
   "id": "opened-update",
   "metadata": {},
   "outputs": [
    {
     "data": {
      "text/plain": [
       "False"
      ]
     },
     "execution_count": 14,
     "metadata": {},
     "output_type": "execute_result"
    }
   ],
   "source": [
    "timedelta(hours=3).total_seconds() > abs((now-date).total_seconds())"
   ]
  },
  {
   "cell_type": "code",
   "execution_count": 15,
   "id": "respective-forth",
   "metadata": {},
   "outputs": [
    {
     "data": {
      "text/plain": [
       "False"
      ]
     },
     "execution_count": 15,
     "metadata": {},
     "output_type": "execute_result"
    }
   ],
   "source": [
    "timedelta(days=.5) < date-now"
   ]
  },
  {
   "cell_type": "code",
   "execution_count": 16,
   "id": "corporate-compiler",
   "metadata": {},
   "outputs": [
    {
     "data": {
      "text/plain": [
       "10800.0"
      ]
     },
     "execution_count": 16,
     "metadata": {},
     "output_type": "execute_result"
    }
   ],
   "source": [
    "timedelta(hours=3).total_seconds()"
   ]
  },
  {
   "cell_type": "code",
   "execution_count": 17,
   "id": "composed-complement",
   "metadata": {},
   "outputs": [],
   "source": [
    "from google.cloud import bigquery\n",
    "from google.cloud import bigquery_storage\n",
    "\n",
    "import google.auth"
   ]
  },
  {
   "cell_type": "code",
   "execution_count": 38,
   "id": "higher-witness",
   "metadata": {},
   "outputs": [],
   "source": [
    "def retreive_past_dates():\n",
    "    credentials, your_project_id = google.auth.default(\n",
    "        scopes=[\"https://www.googleapis.com/auth/cloud-platform\"]\n",
    "    )\n",
    "    print(your_project_id, credentials)\n",
    "    # Make clients.\n",
    "    bqclient = bigquery.Client(credentials=credentials, project=your_project_id,)\n",
    "    bqstorageclient = bigquery_storage.BigQueryReadClient(credentials=credentials)\n",
    "\n",
    "    query_string = \"\"\"\n",
    "    SELECT * \n",
    "    FROM `vaccine-volunteering.dates_accessed.dates`\n",
    "    \"\"\"\n",
    "\n",
    "    dataframe = (\n",
    "        bqclient.query(query_string)\n",
    "        .result()\n",
    "        .to_dataframe(bqstorage_client=bqstorageclient)\n",
    "    )\n",
    "    return dataframe"
   ]
  },
  {
   "cell_type": "code",
   "execution_count": 50,
   "id": "frequent-genius",
   "metadata": {},
   "outputs": [],
   "source": [
    "import pandas as pd"
   ]
  },
  {
   "cell_type": "code",
   "execution_count": 88,
   "id": "lyric-exemption",
   "metadata": {},
   "outputs": [
    {
     "name": "stdout",
     "output_type": "stream",
     "text": [
      "vaccine-volunteering <google.oauth2.credentials.Credentials object at 0x7fac4b3490a0>\n"
     ]
    }
   ],
   "source": [
    "old_events = retreive_past_dates()"
   ]
  },
  {
   "cell_type": "code",
   "execution_count": 91,
   "id": "ecological-track",
   "metadata": {},
   "outputs": [],
   "source": [
    "old_events = old_events.groupby('date').max()"
   ]
  },
  {
   "cell_type": "code",
   "execution_count": 92,
   "id": "solar-cancellation",
   "metadata": {},
   "outputs": [
    {
     "data": {
      "text/plain": [
       "array([datetime.date(2021, 3, 17), datetime.date(2021, 3, 18),\n",
       "       datetime.date(2021, 3, 19)], dtype=object)"
      ]
     },
     "execution_count": 92,
     "metadata": {},
     "output_type": "execute_result"
    }
   ],
   "source": [
    "old_events.index.values"
   ]
  },
  {
   "cell_type": "code",
   "execution_count": 93,
   "id": "specified-horizon",
   "metadata": {},
   "outputs": [],
   "source": [
    "def str_to_datetime(date_str):\n",
    "    return datetime.strptime(date_str, '%a %b %d').date()\n",
    "\n",
    "def date_to_bigquery(date):\n",
    "    return date.strftime('%Y-%m-%d')\n",
    "\n",
    "def timestamp_to_bigquery(date):\n",
    "    return date.now(timezone.utc).strftime('%Y-%m-%d %H:%M:%S.%f %Z')"
   ]
  },
  {
   "cell_type": "code",
   "execution_count": 94,
   "id": "double-circumstances",
   "metadata": {},
   "outputs": [],
   "source": [
    "offset = timezone(timedelta(hours=-8))\n",
    "now = datetime.now(offset)\n",
    "\n",
    "events_dt = [str_to_datetime(date).replace(year=now.year) for date in events]"
   ]
  },
  {
   "cell_type": "code",
   "execution_count": 68,
   "id": "pretty-hawaii",
   "metadata": {},
   "outputs": [
    {
     "data": {
      "text/plain": [
       "[datetime.date(2021, 3, 17),\n",
       " datetime.date(2021, 3, 18),\n",
       " datetime.date(2021, 3, 19)]"
      ]
     },
     "execution_count": 68,
     "metadata": {},
     "output_type": "execute_result"
    }
   ],
   "source": [
    "events_dt"
   ]
  },
  {
   "cell_type": "code",
   "execution_count": 76,
   "id": "abandoned-length",
   "metadata": {},
   "outputs": [
    {
     "data": {
      "text/plain": [
       "Timestamp('2021-03-17 20:02:21.002978+0000', tz='UTC')"
      ]
     },
     "execution_count": 76,
     "metadata": {},
     "output_type": "execute_result"
    }
   ],
   "source": [
    "old_events.loc[events_dt[0]].last_accessed"
   ]
  },
  {
   "cell_type": "code",
   "execution_count": 83,
   "id": "stuffed-taylor",
   "metadata": {},
   "outputs": [],
   "source": []
  },
  {
   "cell_type": "code",
   "execution_count": 84,
   "id": "eastern-motel",
   "metadata": {},
   "outputs": [
    {
     "data": {
      "text/plain": [
       "datetime.datetime(2021, 3, 17, 20, 16, 56, 266922, tzinfo=<UTC>)"
      ]
     },
     "execution_count": 84,
     "metadata": {},
     "output_type": "execute_result"
    }
   ],
   "source": [
    "datetime.now(pytz.UTC)"
   ]
  },
  {
   "cell_type": "code",
   "execution_count": 87,
   "id": "noble-rally",
   "metadata": {},
   "outputs": [],
   "source": [
    "new_events = []\n",
    "for event in events_dt:\n",
    "    if (event not in old_events.index.values) or \\\n",
    "    timedelta(hours=3).total_seconds() < abs((datetime.now(pytz.UTC)-old_events.loc[event].last_accessed).total_seconds()):\n",
    "        print('time check')\n",
    "        new_events.append({u\"date\":event, u\"last_accessed\":timestamp_to_bigquery(datetime.now())})\n",
    "        "
   ]
  },
  {
   "cell_type": "code",
   "execution_count": null,
   "id": "promising-ability",
   "metadata": {},
   "outputs": [],
   "source": [
    "def upload_results()"
   ]
  },
  {
   "cell_type": "code",
   "execution_count": 36,
   "id": "unlimited-mediterranean",
   "metadata": {},
   "outputs": [],
   "source": [
    "client = bigquery.Client()\n"
   ]
  },
  {
   "cell_type": "code",
   "execution_count": 37,
   "id": "nominated-confusion",
   "metadata": {},
   "outputs": [
    {
     "name": "stdout",
     "output_type": "stream",
     "text": [
      "New rows have been added.\n"
     ]
    }
   ],
   "source": [
    "errors = client.insert_rows_json('vaccine-volunteering.dates_accessed.dates', new_events)  # Make an API request.\n",
    "if errors == []:\n",
    "    print(\"New rows have been added.\")\n",
    "else:\n",
    "    print(\"Encountered errors while inserting rows: {}\".format(errors))"
   ]
  },
  {
   "cell_type": "code",
   "execution_count": null,
   "id": "grave-eagle",
   "metadata": {},
   "outputs": [],
   "source": []
  }
 ],
 "metadata": {
  "kernelspec": {
   "display_name": "Python 3",
   "language": "python",
   "name": "python3"
  },
  "language_info": {
   "codemirror_mode": {
    "name": "ipython",
    "version": 3
   },
   "file_extension": ".py",
   "mimetype": "text/x-python",
   "name": "python",
   "nbconvert_exporter": "python",
   "pygments_lexer": "ipython3",
   "version": "3.8.8"
  }
 },
 "nbformat": 4,
 "nbformat_minor": 5
}
